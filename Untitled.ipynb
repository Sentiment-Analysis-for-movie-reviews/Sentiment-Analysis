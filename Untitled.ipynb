{
 "cells": [
  {
   "cell_type": "code",
   "execution_count": 1,
   "id": "5f8ab58b",
   "metadata": {},
   "outputs": [
    {
     "name": "stdout",
     "output_type": "stream",
     "text": [
      "There are 54099 rows and 2 columns\n"
     ]
    }
   ],
   "source": [
    "import numpy as np # linear algebra\n",
    "import os # accessing directory structure\n",
    "import pandas as pd # data processing, CSV file I/O (e.g. pd.read_csv)\n",
    "df1 = pd.read_csv('./training-dataset.csv', delimiter=',')\n",
    "df1.dataframeName = 'training-dataset.csv'\n",
    "nRow, nCol = df1.shape\n",
    "print(f'There are {nRow} rows and {nCol} columns')"
   ]
  },
  {
   "cell_type": "code",
   "execution_count": 2,
   "id": "1a500e78",
   "metadata": {},
   "outputs": [
    {
     "data": {
      "text/html": [
       "<div>\n",
       "<style scoped>\n",
       "    .dataframe tbody tr th:only-of-type {\n",
       "        vertical-align: middle;\n",
       "    }\n",
       "\n",
       "    .dataframe tbody tr th {\n",
       "        vertical-align: top;\n",
       "    }\n",
       "\n",
       "    .dataframe thead th {\n",
       "        text-align: right;\n",
       "    }\n",
       "</style>\n",
       "<table border=\"1\" class=\"dataframe\">\n",
       "  <thead>\n",
       "    <tr style=\"text-align: right;\">\n",
       "      <th></th>\n",
       "      <th>sentiment</th>\n",
       "      <th>tweet_text</th>\n",
       "    </tr>\n",
       "  </thead>\n",
       "  <tbody>\n",
       "    <tr>\n",
       "      <th>0</th>\n",
       "      <td>joy</td>\n",
       "      <td>i suppose i am happy being so tiny; it means i...</td>\n",
       "    </tr>\n",
       "    <tr>\n",
       "      <th>1</th>\n",
       "      <td>joy</td>\n",
       "      <td>lennox has always truly wanted to fight for th...</td>\n",
       "    </tr>\n",
       "    <tr>\n",
       "      <th>2</th>\n",
       "      <td>joy</td>\n",
       "      <td>he was a professional musician now, still sens...</td>\n",
       "    </tr>\n",
       "    <tr>\n",
       "      <th>3</th>\n",
       "      <td>joy</td>\n",
       "      <td>holmes is happy having the freedom of the hous...</td>\n",
       "    </tr>\n",
       "    <tr>\n",
       "      <th>4</th>\n",
       "      <td>joy</td>\n",
       "      <td>i had problems with tutors trying to encourage...</td>\n",
       "    </tr>\n",
       "    <tr>\n",
       "      <th>5</th>\n",
       "      <td>joy</td>\n",
       "      <td>these days he is quite happy travelling by tro...</td>\n",
       "    </tr>\n",
       "    <tr>\n",
       "      <th>6</th>\n",
       "      <td>joy</td>\n",
       "      <td>i am really happy in the group now.</td>\n",
       "    </tr>\n",
       "    <tr>\n",
       "      <th>7</th>\n",
       "      <td>joy</td>\n",
       "      <td>i was given a dummy in which to do my prelimin...</td>\n",
       "    </tr>\n",
       "    <tr>\n",
       "      <th>8</th>\n",
       "      <td>joy</td>\n",
       "      <td>i must say i was not totally happy about her g...</td>\n",
       "    </tr>\n",
       "    <tr>\n",
       "      <th>9</th>\n",
       "      <td>joy</td>\n",
       "      <td>indeed, the two m boys themselves were not tot...</td>\n",
       "    </tr>\n",
       "  </tbody>\n",
       "</table>\n",
       "</div>"
      ],
      "text/plain": [
       "  sentiment                                         tweet_text\n",
       "0       joy  i suppose i am happy being so tiny; it means i...\n",
       "1       joy  lennox has always truly wanted to fight for th...\n",
       "2       joy  he was a professional musician now, still sens...\n",
       "3       joy  holmes is happy having the freedom of the hous...\n",
       "4       joy  i had problems with tutors trying to encourage...\n",
       "5       joy  these days he is quite happy travelling by tro...\n",
       "6       joy               i am really happy in the group now. \n",
       "7       joy  i was given a dummy in which to do my prelimin...\n",
       "8       joy  i must say i was not totally happy about her g...\n",
       "9       joy  indeed, the two m boys themselves were not tot..."
      ]
     },
     "execution_count": 2,
     "metadata": {},
     "output_type": "execute_result"
    }
   ],
   "source": [
    "df1.head(10)"
   ]
  },
  {
   "cell_type": "code",
   "execution_count": 15,
   "id": "324a4b32",
   "metadata": {},
   "outputs": [
    {
     "data": {
      "text/html": [
       "<div>\n",
       "<style scoped>\n",
       "    .dataframe tbody tr th:only-of-type {\n",
       "        vertical-align: middle;\n",
       "    }\n",
       "\n",
       "    .dataframe tbody tr th {\n",
       "        vertical-align: top;\n",
       "    }\n",
       "\n",
       "    .dataframe thead th {\n",
       "        text-align: right;\n",
       "    }\n",
       "</style>\n",
       "<table border=\"1\" class=\"dataframe\">\n",
       "  <thead>\n",
       "    <tr style=\"text-align: right;\">\n",
       "      <th></th>\n",
       "      <th>id</th>\n",
       "      <th>category</th>\n",
       "      <th>text</th>\n",
       "    </tr>\n",
       "  </thead>\n",
       "  <tbody>\n",
       "    <tr>\n",
       "      <th>1</th>\n",
       "      <td>0</td>\n",
       "      <td>joy</td>\n",
       "      <td>i suppose i am happy being so tiny; it means i...</td>\n",
       "    </tr>\n",
       "    <tr>\n",
       "      <th>2</th>\n",
       "      <td>1</td>\n",
       "      <td>joy</td>\n",
       "      <td>lennox has always truly wanted to fight for th...</td>\n",
       "    </tr>\n",
       "    <tr>\n",
       "      <th>3</th>\n",
       "      <td>2</td>\n",
       "      <td>joy</td>\n",
       "      <td>he was a professional musician now, still sens...</td>\n",
       "    </tr>\n",
       "    <tr>\n",
       "      <th>4</th>\n",
       "      <td>3</td>\n",
       "      <td>joy</td>\n",
       "      <td>holmes is happy having the freedom of the hous...</td>\n",
       "    </tr>\n",
       "    <tr>\n",
       "      <th>5</th>\n",
       "      <td>4</td>\n",
       "      <td>joy</td>\n",
       "      <td>i had problems with tutors trying to encourage...</td>\n",
       "    </tr>\n",
       "    <tr>\n",
       "      <th>...</th>\n",
       "      <td>...</td>\n",
       "      <td>...</td>\n",
       "      <td>...</td>\n",
       "    </tr>\n",
       "    <tr>\n",
       "      <th>54095</th>\n",
       "      <td>54094</td>\n",
       "      <td>disgust</td>\n",
       "      <td>This is what a Pennridge school board member t...</td>\n",
       "    </tr>\n",
       "    <tr>\n",
       "      <th>54096</th>\n",
       "      <td>54095</td>\n",
       "      <td>disgust</td>\n",
       "      <td>Washington DC Esta señora está en desacuerdo c...</td>\n",
       "    </tr>\n",
       "    <tr>\n",
       "      <th>54097</th>\n",
       "      <td>54096</td>\n",
       "      <td>disgust</td>\n",
       "      <td>Un sujeto intentó arrollar a persona que con s...</td>\n",
       "    </tr>\n",
       "    <tr>\n",
       "      <th>54098</th>\n",
       "      <td>54097</td>\n",
       "      <td>disgust</td>\n",
       "      <td>Los medios corporativos han apagado el movimie...</td>\n",
       "    </tr>\n",
       "    <tr>\n",
       "      <th>54099</th>\n",
       "      <td>54098</td>\n",
       "      <td>disgust</td>\n",
       "      <td>SHAME, Take this trash off the shelf in all yo...</td>\n",
       "    </tr>\n",
       "  </tbody>\n",
       "</table>\n",
       "<p>54099 rows × 3 columns</p>\n",
       "</div>"
      ],
      "text/plain": [
       "          id category                                               text\n",
       "1          0      joy  i suppose i am happy being so tiny; it means i...\n",
       "2          1      joy  lennox has always truly wanted to fight for th...\n",
       "3          2      joy  he was a professional musician now, still sens...\n",
       "4          3      joy  holmes is happy having the freedom of the hous...\n",
       "5          4      joy  i had problems with tutors trying to encourage...\n",
       "...      ...      ...                                                ...\n",
       "54095  54094  disgust  This is what a Pennridge school board member t...\n",
       "54096  54095  disgust  Washington DC Esta señora está en desacuerdo c...\n",
       "54097  54096  disgust  Un sujeto intentó arrollar a persona que con s...\n",
       "54098  54097  disgust  Los medios corporativos han apagado el movimie...\n",
       "54099  54098  disgust  SHAME, Take this trash off the shelf in all yo...\n",
       "\n",
       "[54099 rows x 3 columns]"
      ]
     },
     "execution_count": 15,
     "metadata": {},
     "output_type": "execute_result"
    }
   ],
   "source": [
    "filepath = \"./training-dataset.csv\"\n",
    "df = pd.read_csv(filepath,names=['sentiment', 'tweet_text'], delimiter=',')\n",
    "df = df.drop(0)\n",
    "df.insert(0, 'id', range(len(df)), allow_duplicates=False)\n",
    "df.rename(columns={'sentiment':'category', 'tweet_text':'text'})"
   ]
  },
  {
   "cell_type": "code",
   "execution_count": 16,
   "id": "68705d2d",
   "metadata": {},
   "outputs": [
    {
     "name": "stdout",
     "output_type": "stream",
     "text": [
      "<class 'pandas.core.frame.DataFrame'>\n",
      "Int64Index: 54099 entries, 1 to 54099\n",
      "Data columns (total 3 columns):\n",
      " #   Column      Non-Null Count  Dtype \n",
      "---  ------      --------------  ----- \n",
      " 0   id          54099 non-null  int64 \n",
      " 1   sentiment   54099 non-null  object\n",
      " 2   tweet_text  54099 non-null  object\n",
      "dtypes: int64(1), object(2)\n",
      "memory usage: 1.7+ MB\n"
     ]
    }
   ],
   "source": [
    "df.info()"
   ]
  },
  {
   "cell_type": "code",
   "execution_count": 17,
   "id": "1f3570dc",
   "metadata": {},
   "outputs": [
    {
     "data": {
      "text/html": [
       "<div>\n",
       "<style scoped>\n",
       "    .dataframe tbody tr th:only-of-type {\n",
       "        vertical-align: middle;\n",
       "    }\n",
       "\n",
       "    .dataframe tbody tr th {\n",
       "        vertical-align: top;\n",
       "    }\n",
       "\n",
       "    .dataframe thead th {\n",
       "        text-align: right;\n",
       "    }\n",
       "</style>\n",
       "<table border=\"1\" class=\"dataframe\">\n",
       "  <thead>\n",
       "    <tr style=\"text-align: right;\">\n",
       "      <th></th>\n",
       "      <th>id</th>\n",
       "      <th>sentiment</th>\n",
       "      <th>tweet_text</th>\n",
       "    </tr>\n",
       "  </thead>\n",
       "  <tbody>\n",
       "    <tr>\n",
       "      <th>1</th>\n",
       "      <td>0</td>\n",
       "      <td>joy</td>\n",
       "      <td>i suppose i am happy being so tiny; it means i...</td>\n",
       "    </tr>\n",
       "    <tr>\n",
       "      <th>2</th>\n",
       "      <td>1</td>\n",
       "      <td>joy</td>\n",
       "      <td>lennox has always truly wanted to fight for th...</td>\n",
       "    </tr>\n",
       "    <tr>\n",
       "      <th>3</th>\n",
       "      <td>2</td>\n",
       "      <td>joy</td>\n",
       "      <td>he was a professional musician now, still sens...</td>\n",
       "    </tr>\n",
       "    <tr>\n",
       "      <th>4</th>\n",
       "      <td>3</td>\n",
       "      <td>joy</td>\n",
       "      <td>holmes is happy having the freedom of the hous...</td>\n",
       "    </tr>\n",
       "    <tr>\n",
       "      <th>5</th>\n",
       "      <td>4</td>\n",
       "      <td>joy</td>\n",
       "      <td>i had problems with tutors trying to encourage...</td>\n",
       "    </tr>\n",
       "    <tr>\n",
       "      <th>6</th>\n",
       "      <td>5</td>\n",
       "      <td>joy</td>\n",
       "      <td>these days he is quite happy travelling by tro...</td>\n",
       "    </tr>\n",
       "    <tr>\n",
       "      <th>7</th>\n",
       "      <td>6</td>\n",
       "      <td>joy</td>\n",
       "      <td>i am really happy in the group now.</td>\n",
       "    </tr>\n",
       "    <tr>\n",
       "      <th>8</th>\n",
       "      <td>7</td>\n",
       "      <td>joy</td>\n",
       "      <td>i was given a dummy in which to do my prelimin...</td>\n",
       "    </tr>\n",
       "    <tr>\n",
       "      <th>9</th>\n",
       "      <td>8</td>\n",
       "      <td>joy</td>\n",
       "      <td>i must say i was not totally happy about her g...</td>\n",
       "    </tr>\n",
       "    <tr>\n",
       "      <th>10</th>\n",
       "      <td>9</td>\n",
       "      <td>joy</td>\n",
       "      <td>indeed, the two m boys themselves were not tot...</td>\n",
       "    </tr>\n",
       "  </tbody>\n",
       "</table>\n",
       "</div>"
      ],
      "text/plain": [
       "    id sentiment                                         tweet_text\n",
       "1    0       joy  i suppose i am happy being so tiny; it means i...\n",
       "2    1       joy  lennox has always truly wanted to fight for th...\n",
       "3    2       joy  he was a professional musician now, still sens...\n",
       "4    3       joy  holmes is happy having the freedom of the hous...\n",
       "5    4       joy  i had problems with tutors trying to encourage...\n",
       "6    5       joy  these days he is quite happy travelling by tro...\n",
       "7    6       joy               i am really happy in the group now. \n",
       "8    7       joy  i was given a dummy in which to do my prelimin...\n",
       "9    8       joy  i must say i was not totally happy about her g...\n",
       "10   9       joy  indeed, the two m boys themselves were not tot..."
      ]
     },
     "execution_count": 17,
     "metadata": {},
     "output_type": "execute_result"
    }
   ],
   "source": [
    "df.head(10)"
   ]
  },
  {
   "cell_type": "code",
   "execution_count": 18,
   "id": "6c087e71",
   "metadata": {},
   "outputs": [],
   "source": [
    "df.to_csv('./Sentiment-Analysis/Black_dataset.csv', header=False)"
   ]
  },
  {
   "cell_type": "code",
   "execution_count": 19,
   "id": "d0de2881",
   "metadata": {},
   "outputs": [],
   "source": [
    "filepath = './Sentiment-Analysis/Black_dataset.csv'\n",
    "df = pd.read_csv(filepath, names=['id', 'category', 'text'])"
   ]
  },
  {
   "cell_type": "code",
   "execution_count": 20,
   "id": "0832d52e",
   "metadata": {},
   "outputs": [
    {
     "data": {
      "text/html": [
       "<div>\n",
       "<style scoped>\n",
       "    .dataframe tbody tr th:only-of-type {\n",
       "        vertical-align: middle;\n",
       "    }\n",
       "\n",
       "    .dataframe tbody tr th {\n",
       "        vertical-align: top;\n",
       "    }\n",
       "\n",
       "    .dataframe thead th {\n",
       "        text-align: right;\n",
       "    }\n",
       "</style>\n",
       "<table border=\"1\" class=\"dataframe\">\n",
       "  <thead>\n",
       "    <tr style=\"text-align: right;\">\n",
       "      <th></th>\n",
       "      <th>id</th>\n",
       "      <th>category</th>\n",
       "      <th>text</th>\n",
       "    </tr>\n",
       "  </thead>\n",
       "  <tbody>\n",
       "    <tr>\n",
       "      <th>1</th>\n",
       "      <td>0</td>\n",
       "      <td>joy</td>\n",
       "      <td>i suppose i am happy being so tiny; it means i...</td>\n",
       "    </tr>\n",
       "    <tr>\n",
       "      <th>2</th>\n",
       "      <td>1</td>\n",
       "      <td>joy</td>\n",
       "      <td>lennox has always truly wanted to fight for th...</td>\n",
       "    </tr>\n",
       "    <tr>\n",
       "      <th>3</th>\n",
       "      <td>2</td>\n",
       "      <td>joy</td>\n",
       "      <td>he was a professional musician now, still sens...</td>\n",
       "    </tr>\n",
       "    <tr>\n",
       "      <th>4</th>\n",
       "      <td>3</td>\n",
       "      <td>joy</td>\n",
       "      <td>holmes is happy having the freedom of the hous...</td>\n",
       "    </tr>\n",
       "    <tr>\n",
       "      <th>5</th>\n",
       "      <td>4</td>\n",
       "      <td>joy</td>\n",
       "      <td>i had problems with tutors trying to encourage...</td>\n",
       "    </tr>\n",
       "    <tr>\n",
       "      <th>6</th>\n",
       "      <td>5</td>\n",
       "      <td>joy</td>\n",
       "      <td>these days he is quite happy travelling by tro...</td>\n",
       "    </tr>\n",
       "    <tr>\n",
       "      <th>7</th>\n",
       "      <td>6</td>\n",
       "      <td>joy</td>\n",
       "      <td>i am really happy in the group now.</td>\n",
       "    </tr>\n",
       "    <tr>\n",
       "      <th>8</th>\n",
       "      <td>7</td>\n",
       "      <td>joy</td>\n",
       "      <td>i was given a dummy in which to do my prelimin...</td>\n",
       "    </tr>\n",
       "    <tr>\n",
       "      <th>9</th>\n",
       "      <td>8</td>\n",
       "      <td>joy</td>\n",
       "      <td>i must say i was not totally happy about her g...</td>\n",
       "    </tr>\n",
       "    <tr>\n",
       "      <th>10</th>\n",
       "      <td>9</td>\n",
       "      <td>joy</td>\n",
       "      <td>indeed, the two m boys themselves were not tot...</td>\n",
       "    </tr>\n",
       "  </tbody>\n",
       "</table>\n",
       "</div>"
      ],
      "text/plain": [
       "    id category                                               text\n",
       "1    0      joy  i suppose i am happy being so tiny; it means i...\n",
       "2    1      joy  lennox has always truly wanted to fight for th...\n",
       "3    2      joy  he was a professional musician now, still sens...\n",
       "4    3      joy  holmes is happy having the freedom of the hous...\n",
       "5    4      joy  i had problems with tutors trying to encourage...\n",
       "6    5      joy  these days he is quite happy travelling by tro...\n",
       "7    6      joy               i am really happy in the group now. \n",
       "8    7      joy  i was given a dummy in which to do my prelimin...\n",
       "9    8      joy  i must say i was not totally happy about her g...\n",
       "10   9      joy  indeed, the two m boys themselves were not tot..."
      ]
     },
     "execution_count": 20,
     "metadata": {},
     "output_type": "execute_result"
    }
   ],
   "source": [
    "df.head(10)"
   ]
  },
  {
   "cell_type": "code",
   "execution_count": 1,
   "id": "6872081d",
   "metadata": {},
   "outputs": [],
   "source": [
    "class_names = [\"joy\",\"sadness\",\"superise\",\"disgust\",\"anger\", \"fear\", \"trust\", \"anticipation\"]"
   ]
  },
  {
   "cell_type": "code",
   "execution_count": 2,
   "id": "45f4bb28",
   "metadata": {},
   "outputs": [
    {
     "data": {
      "text/plain": [
       "{0: 'joy',\n",
       " 1: 'sadness',\n",
       " 2: 'superise',\n",
       " 3: 'disgust',\n",
       " 4: 'anger',\n",
       " 5: 'fear',\n",
       " 6: 'trust',\n",
       " 7: 'anticipation'}"
      ]
     },
     "execution_count": 2,
     "metadata": {},
     "output_type": "execute_result"
    }
   ],
   "source": [
    "label_dict = {}\n",
    "for i, sentiment in enumerate(class_names):\n",
    "    label_dict[i] = sentiment\n",
    "label_dict"
   ]
  },
  {
   "cell_type": "code",
   "execution_count": 3,
   "id": "2c4479aa",
   "metadata": {},
   "outputs": [],
   "source": [
    "import io\n",
    "review_text = \"sentiment in enumerate(class_names):\"\n",
    "file_obj = io.StringIO(review_text)\n",
    "files = {\"file\": (\"review.txt\", file_obj)}"
   ]
  },
  {
   "cell_type": "code",
   "execution_count": 4,
   "id": "c8c9065f",
   "metadata": {},
   "outputs": [
    {
     "name": "stdout",
     "output_type": "stream",
     "text": [
      "<class 'dict'>\n"
     ]
    }
   ],
   "source": [
    "print(type(files))"
   ]
  },
  {
   "cell_type": "code",
   "execution_count": 14,
   "id": "52c226ff",
   "metadata": {},
   "outputs": [
    {
     "name": "stdout",
     "output_type": "stream",
     "text": [
      "sentiment in enumerate(class_names):\n"
     ]
    }
   ],
   "source": [
    "print(files['file'][1].getvalue())"
   ]
  },
  {
   "cell_type": "code",
   "execution_count": 31,
   "id": "abce61fb",
   "metadata": {},
   "outputs": [],
   "source": [
    "import pandas as pd\n",
    "from sklearn.model_selection import train_test_split\n",
    "def get_df(filepath: str) -> pd.DataFrame:\n",
    "    # Task 1: Exploratory Data Analysis and Preprocessing\n",
    "    df = pd.read_csv(filepath,\n",
    "        names=['id', 'category', 'text'])\n",
    "    # Whether to modify the DataFrame rather than creating a new one.\n",
    "    df.set_index('id', inplace=True)\n",
    "    possible_labels = df.category.unique()\n",
    "    label_dict = {}\n",
    "\n",
    "    for index, possible_label in enumerate(possible_labels):\n",
    "        label_dict[possible_label] = index\n",
    "    df[\"label\"] = df.category.replace(label_dict)\n",
    "\n",
    "    # Task 2: Training/Validation Split\n",
    "    X_train, X_val, y_train, y_val = train_test_split(\n",
    "        df.index.values,\n",
    "        df.label.values,\n",
    "        test_size=0.15,\n",
    "        random_state=17,\n",
    "        stratify=df.label.values # divide all categories with the set proportion\n",
    "    )\n",
    "\n",
    "    df['data_type'] = ['not_set']*df.shape[0]\n",
    "\n",
    "    df.loc[X_train, 'data_type'] = 'train'\n",
    "    df.loc[X_val, 'data_type'] = 'val'\n",
    "    return df, label_dict"
   ]
  },
  {
   "cell_type": "code",
   "execution_count": 32,
   "id": "baf8a483",
   "metadata": {},
   "outputs": [],
   "source": [
    "df, dic = get_df('./data/Black_dataset.csv')"
   ]
  },
  {
   "cell_type": "code",
   "execution_count": 33,
   "id": "e8f64c5d",
   "metadata": {},
   "outputs": [
    {
     "name": "stdout",
     "output_type": "stream",
     "text": [
      "      category                                               text  label  \\\n",
      "id                                                                         \n",
      "0          joy  i suppose i am happy being so tiny; it means i...      0   \n",
      "1          joy  lennox has always truly wanted to fight for th...      0   \n",
      "2          joy  he was a professional musician now, still sens...      0   \n",
      "3          joy  holmes is happy having the freedom of the hous...      0   \n",
      "4          joy  i had problems with tutors trying to encourage...      0   \n",
      "...        ...                                                ...    ...   \n",
      "54094  disgust  This is what a Pennridge school board member t...      3   \n",
      "54095  disgust  Washington DC Esta señora está en desacuerdo c...      3   \n",
      "54096  disgust  Un sujeto intentó arrollar a persona que con s...      3   \n",
      "54097  disgust  Los medios corporativos han apagado el movimie...      3   \n",
      "54098  disgust  SHAME, Take this trash off the shelf in all yo...      3   \n",
      "\n",
      "      data_type  \n",
      "id               \n",
      "0         train  \n",
      "1           val  \n",
      "2         train  \n",
      "3         train  \n",
      "4           val  \n",
      "...         ...  \n",
      "54094       val  \n",
      "54095     train  \n",
      "54096     train  \n",
      "54097     train  \n",
      "54098     train  \n",
      "\n",
      "[54099 rows x 4 columns]\n"
     ]
    }
   ],
   "source": [
    "print(df)"
   ]
  },
  {
   "cell_type": "code",
   "execution_count": 27,
   "id": "d5edc950",
   "metadata": {},
   "outputs": [
    {
     "name": "stdout",
     "output_type": "stream",
     "text": [
      "tensor([[1.]])\n"
     ]
    }
   ],
   "source": [
    "print(a)"
   ]
  },
  {
   "cell_type": "code",
   "execution_count": null,
   "id": "6c377e09",
   "metadata": {},
   "outputs": [],
   "source": []
  }
 ],
 "metadata": {
  "kernelspec": {
   "display_name": "Python 3 (ipykernel)",
   "language": "python",
   "name": "python3"
  },
  "language_info": {
   "codemirror_mode": {
    "name": "ipython",
    "version": 3
   },
   "file_extension": ".py",
   "mimetype": "text/x-python",
   "name": "python",
   "nbconvert_exporter": "python",
   "pygments_lexer": "ipython3",
   "version": "3.8.12"
  },
  "toc": {
   "base_numbering": 1,
   "nav_menu": {},
   "number_sections": true,
   "sideBar": true,
   "skip_h1_title": false,
   "title_cell": "Table of Contents",
   "title_sidebar": "Contents",
   "toc_cell": false,
   "toc_position": {},
   "toc_section_display": true,
   "toc_window_display": false
  }
 },
 "nbformat": 4,
 "nbformat_minor": 5
}
